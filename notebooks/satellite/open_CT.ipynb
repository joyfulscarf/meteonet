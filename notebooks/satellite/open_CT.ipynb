{
 "cells": [
  {
   "cell_type": "markdown",
   "metadata": {},
   "source": [
    "# Satellite data : CT (Cloud Type)\n",
    "\n",
    "The aim of this notebook is to show how to read the Cloud Type (CT) satellite data from a data sample.\n",
    "\n",
    "You will find one NetCDF file per geographic zone ('NW' for North-West of France and 'SE' for South-East of France) and per year. \n",
    "\n",
    "For each pixel, the value represents a category of cloud type (16 classes in total):\n",
    "* 0:No data\n",
    "* 1:Cloud-free land\n",
    "* 2:Cloud-free sea\n",
    "* 3:Snow over land\n",
    "* 4:Sea ice\n",
    "* 5:Very low clouds\n",
    "* 6:Low clouds\n",
    "* ...\n",
    "\n",
    "The spatial resolution is 0.03° and the time step is 15 minutes but some dates can be missing (due to problems in original data, so we can do anything).\n",
    "\n",
    "For more information, cf documentation."
   ]
  },
  {
   "cell_type": "code",
   "execution_count": null,
   "metadata": {},
   "outputs": [],
   "source": [
    "from meteonet_toolbox.constant import CLOUD_TYPE_16,CT_16_COLOR_MAP\n",
    "import xarray as xr\n",
    "import datetime\n",
    "%matplotlib notebook\n",
    "import matplotlib.patches as mpatches\n",
    "import matplotlib.pyplot as plt\n",
    "from matplotlib import colors"
   ]
  },
  {
   "cell_type": "markdown",
   "metadata": {},
   "source": [
    "## Parameters definition\n",
    "\n",
    "Select the area and year you want to study:"
   ]
  },
  {
   "cell_type": "code",
   "execution_count": null,
   "metadata": {},
   "outputs": [],
   "source": [
    "zone = 'NW'\n",
    "year = '2016'"
   ]
  },
  {
   "cell_type": "markdown",
   "metadata": {},
   "source": [
    "## Loading data using parameters"
   ]
  },
  {
   "cell_type": "code",
   "execution_count": null,
   "metadata": {},
   "outputs": [],
   "source": [
    "fname = \"../../data_samples/satellite/CT_%s_%s.nc\" % (zone,year) #it is about a data sample : a few days in 2016 in NW zone\n",
    "data = xr.open_dataset(fname)"
   ]
  },
  {
   "cell_type": "markdown",
   "metadata": {},
   "source": [
    "## Quick field visualisation \n",
    "\n",
    "The following command shows the CT data on a given zone at different dates (dates indexes : 0,3,5 and 7)."
   ]
  },
  {
   "cell_type": "code",
   "execution_count": null,
   "metadata": {},
   "outputs": [],
   "source": [
    "nbClasses = 16\n",
    "color = CT_16_COLOR_MAP\n",
    "legend = CLOUD_TYPE_16\n",
    "cmap = colors.ListedColormap(color)\n",
    "norm = colors.BoundaryNorm([i for i in range(nbClasses+1)], cmap.N)\n",
    "\n",
    "patches = [mpatches.Patch(color=color[i], label=legend[str(i)]) for i in range(nbClasses)]\n",
    "\n",
    "data.isel(time=[0,3,5,7])['CT'].plot(x='lon', y='lat',col='time',cmap=cmap, norm=norm)\n",
    "plt.show()"
   ]
  },
  {
   "cell_type": "markdown",
   "metadata": {},
   "source": [
    "## Exploration of metadata\n",
    "\n",
    "Overview of the data:"
   ]
  },
  {
   "cell_type": "code",
   "execution_count": null,
   "metadata": {},
   "outputs": [],
   "source": [
    "data"
   ]
  },
  {
   "cell_type": "markdown",
   "metadata": {},
   "source": [
    "Get the information about coordinates (latitude and longitude). It is in degrees (north degrees about latitude and east degrees about longitude)."
   ]
  },
  {
   "cell_type": "code",
   "execution_count": null,
   "metadata": {},
   "outputs": [],
   "source": [
    "coord = 'lon'\n",
    "data[coord]"
   ]
  },
  {
   "cell_type": "code",
   "execution_count": null,
   "metadata": {},
   "outputs": [],
   "source": [
    "data[coord].values"
   ]
  },
  {
   "cell_type": "markdown",
   "metadata": {},
   "source": [
    "Get the information about the observation times:"
   ]
  },
  {
   "cell_type": "code",
   "execution_count": null,
   "metadata": {},
   "outputs": [],
   "source": [
    "dates = data['time']\n",
    "dates"
   ]
  },
  {
   "cell_type": "markdown",
   "metadata": {},
   "source": [
    "Get the information about the CT data:"
   ]
  },
  {
   "cell_type": "code",
   "execution_count": null,
   "metadata": {},
   "outputs": [],
   "source": [
    "d = data['CT']\n",
    "d_vals = d.values  #get the values \n",
    "d"
   ]
  },
  {
   "cell_type": "markdown",
   "metadata": {},
   "source": [
    "The structure of the data (3 dimensions):\n",
    "* number of observation times\n",
    "* number of points in latitude \n",
    "* number of points in longitude"
   ]
  },
  {
   "cell_type": "code",
   "execution_count": null,
   "metadata": {},
   "outputs": [],
   "source": [
    "d_vals.shape"
   ]
  },
  {
   "cell_type": "markdown",
   "metadata": {},
   "source": [
    "## Plotting data with Cartopy\n",
    "\n",
    "Plot the data for one given date with Cartopy:"
   ]
  },
  {
   "cell_type": "code",
   "execution_count": null,
   "metadata": {},
   "outputs": [],
   "source": [
    "from meteonet_toolbox.constant import DOMAINS\n",
    "import cartopy.crs as ccrs\n",
    "import cartopy.feature as cfeature"
   ]
  },
  {
   "cell_type": "code",
   "execution_count": null,
   "metadata": {},
   "outputs": [],
   "source": [
    "#studied date\n",
    "studied_date = '201601010215'\n",
    "date = datetime.datetime.strptime(studied_date,'%Y%m%d%H%M')"
   ]
  },
  {
   "cell_type": "code",
   "execution_count": null,
   "metadata": {},
   "outputs": [],
   "source": [
    "#coordinates of study zone boundaries\n",
    "lllat=DOMAINS[zone]['lry']    #lower left latitude\n",
    "urlat=DOMAINS[zone]['uly']    #upper right latitude\n",
    "lllon=DOMAINS[zone]['ulx']    #lower left longitude\n",
    "urlon=DOMAINS[zone]['lrx']    #upper right longitude\n",
    "extent = [lllon, urlon, lllat, urlat]"
   ]
  },
  {
   "cell_type": "code",
   "execution_count": null,
   "metadata": {},
   "outputs": [],
   "source": [
    "fig = plt.figure(figsize=(8,9))\n",
    "\n",
    "# Select projection\n",
    "ax = plt.axes(projection=ccrs.PlateCarree())\n",
    "\n",
    "# Plot the data\n",
    "img = plt.imshow(data.sel(time=date)['CT'], interpolation='none', origin='upper',cmap=cmap, norm=norm, extent=extent)\n",
    "\n",
    "# Add coastlines and borders\n",
    "ax.coastlines(resolution='50m', linewidth=1)\n",
    "ax.add_feature(cfeature.BORDERS.with_scale('50m'))\n",
    "\n",
    "# Show only the area we defined\n",
    "ax.set_extent(extent)\n",
    "\n",
    "plt.colorbar(img, orientation= 'horizontal', pad=0.03).set_label('Cloud Type (CT)')\n",
    "#plt.legend(handles=patches,loc='lower center')\n",
    "plt.legend(handles=patches, loc='lower center',ncol=2,bbox_to_anchor=(0.12, -0.5, 0.8, 0.4),fontsize = 'x-small')\n",
    "plt.title('CT data - '+ zone + ' zone - '+ studied_date)\n",
    "plt.show()"
   ]
  },
  {
   "cell_type": "code",
   "execution_count": null,
   "metadata": {},
   "outputs": [],
   "source": []
  },
  {
   "cell_type": "code",
   "execution_count": null,
   "metadata": {},
   "outputs": [],
   "source": []
  }
 ],
 "metadata": {
  "kernelspec": {
   "display_name": "Python 3",
   "language": "python",
   "name": "python3"
  },
  "language_info": {
   "codemirror_mode": {
    "name": "ipython",
    "version": 3
   },
   "file_extension": ".py",
   "mimetype": "text/x-python",
   "name": "python",
   "nbconvert_exporter": "python",
   "pygments_lexer": "ipython3",
   "version": "3.7.4"
  }
 },
 "nbformat": 4,
 "nbformat_minor": 4
}
